{
  "nbformat": 4,
  "nbformat_minor": 0,
  "metadata": {
    "colab": {
      "provenance": []
    },
    "kernelspec": {
      "name": "python3",
      "display_name": "Python 3"
    },
    "language_info": {
      "name": "python"
    }
  },
  "cells": [
    {
      "cell_type": "code",
      "execution_count": 20,
      "metadata": {
        "colab": {
          "base_uri": "https://localhost:8080/"
        },
        "id": "qs7x-S3aSGpz",
        "outputId": "3d03a1f7-da17-4a67-e1af-ada8bff7fc16"
      },
      "outputs": [
        {
          "output_type": "stream",
          "name": "stdout",
          "text": [
            "mean of x :5.5\n",
            "mean of y :5.4\n",
            "m :0.8727272727272727\n",
            "b :0.6000000000000005\n",
            "best-fit line: y = 0.873x + 0.600\n",
            "Predicted y values:  [1.472727272727273, 2.3454545454545457, 3.2181818181818187, 4.090909090909092, 4.963636363636364, 5.836363636363637, 6.709090909090909, 7.581818181818182, 8.454545454545455, 9.327272727272728]\n",
            "Mean Squared Error: 0.156\n"
          ]
        }
      ],
      "source": [
        "\n",
        "x=[1,2,3,4,5,6,7,8,9,10]\n",
        "y=[2,2,3,4,5,6,6,8,9,9]\n",
        "def mean(values):\n",
        "  total=sum(values)\n",
        "  count=len(values)\n",
        "  return total/count\n",
        "mean_x=mean(x)\n",
        "mean_y=mean(y)\n",
        "print(\"mean of x :\"+str(mean_x))\n",
        "print(\"mean of y :\"+str(mean_y))\n",
        "\n",
        "numerator = 0\n",
        "denominator = 0\n",
        "for i in range(len(x)):\n",
        "    numerator += (x[i] - mean_x) * (y[i] - mean_y)\n",
        "    denominator += (x[i] - mean_x) ** 2\n",
        "m = numerator / denominator\n",
        "print(\"m :\"+str(m))\n",
        "b = mean_y - m * mean_x\n",
        "print(\"b :\"+str(b))\n",
        "print(\"best-fit line: y = {:.3f}x + {:.3f}\".format(m, b))\n",
        "\n",
        "def predict(x_values):\n",
        "    predictions = []\n",
        "    for xi in x_values:\n",
        "        yi = m * xi + b\n",
        "        predictions.append(yi)\n",
        "    return predictions\n",
        "predicted_y = predict(x)\n",
        "print(\"Predicted y values: \", predicted_y)\n",
        "\n",
        "def mean_squared_error(y_actual, y_predicted):\n",
        "    total_error = 0\n",
        "    for i in range(len(y_actual)):\n",
        "        error = y_actual[i] - y_predicted[i]\n",
        "        total_error += error ** 2\n",
        "    return total_error / len(y_actual)\n",
        "mse = mean_squared_error(y, predicted_y)\n",
        "print(\"Mean Squared Error: {:.3f}\".format(mse))\n"
      ]
    }
  ]
}