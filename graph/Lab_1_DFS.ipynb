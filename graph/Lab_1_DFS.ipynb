{
  "nbformat": 4,
  "nbformat_minor": 0,
  "metadata": {
    "colab": {
      "provenance": []
    },
    "kernelspec": {
      "name": "python3",
      "display_name": "Python 3"
    },
    "language_info": {
      "name": "python"
    }
  },
  "cells": [
    {
      "cell_type": "code",
      "execution_count": 1,
      "metadata": {
        "id": "D_rXcK9gIBya"
      },
      "outputs": [],
      "source": [
        "from collections import deque\n",
        "from queue import Queue\n",
        "import numpy as np"
      ]
    },
    {
      "cell_type": "code",
      "source": [
        "vis = []\n",
        "for i in range(0, 100):\n",
        "  vis.append(False)\n"
      ],
      "metadata": {
        "id": "6LSUvDluIbA-"
      },
      "execution_count": 2,
      "outputs": []
    },
    {
      "cell_type": "code",
      "source": [
        "def dfs(curr, adj_list):\n",
        "  if not vis[curr]:\n",
        "    vis[curr]=True\n",
        "    print(curr)\n",
        "\n",
        "  for v in adj_list[curr]:\n",
        "    if not vis[v]:\n",
        "      dfs(v, adj_list)"
      ],
      "metadata": {
        "id": "7S7e9HwhIqXI"
      },
      "execution_count": 3,
      "outputs": []
    },
    {
      "cell_type": "code",
      "source": [
        "ver = int(input())\n",
        "edg = int(input())\n",
        "\n",
        "print(ver)\n",
        "print(edg)\n",
        "\n",
        "\n",
        "adj_list = {}\n",
        "for i in range(ver):\n",
        "  adj_list[i] = []\n",
        "\n",
        "for i in range(edg):\n",
        "  u = int(input())\n",
        "  v = int(input())\n",
        "  adj_list[u].append(v)\n",
        "  adj_list[v].append(u)\n",
        "\n",
        "dfs(0, adj_list)"
      ],
      "metadata": {
        "colab": {
          "base_uri": "https://localhost:8080/"
        },
        "id": "o7BuzYd0IcQT",
        "outputId": "1f72301d-be95-49df-95bb-62a137ca8a37"
      },
      "execution_count": 5,
      "outputs": [
        {
          "output_type": "stream",
          "name": "stdout",
          "text": [
            "5\n",
            "4\n",
            "5\n",
            "4\n",
            "0\n",
            "1\n",
            "0\n",
            "2\n",
            "0\n",
            "3\n",
            "1\n",
            "4\n",
            "0\n",
            "1\n",
            "4\n",
            "2\n",
            "3\n"
          ]
        }
      ]
    },
    {
      "cell_type": "code",
      "source": [
        "4"
      ],
      "metadata": {
        "id": "EUuCfosvJz68"
      },
      "execution_count": null,
      "outputs": []
    }
  ]
}