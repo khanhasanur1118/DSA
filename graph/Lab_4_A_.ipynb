{
  "nbformat": 4,
  "nbformat_minor": 0,
  "metadata": {
    "colab": {
      "provenance": []
    },
    "kernelspec": {
      "name": "python3",
      "display_name": "Python 3"
    },
    "language_info": {
      "name": "python"
    }
  },
  "cells": [
    {
      "cell_type": "code",
      "execution_count": 6,
      "metadata": {
        "colab": {
          "base_uri": "https://localhost:8080/"
        },
        "id": "ncKd81LjQLuf",
        "outputId": "3b59b2df-5365-4b26-83ab-37ad79e89b4b"
      },
      "outputs": [
        {
          "output_type": "stream",
          "name": "stdout",
          "text": [
            "Optimal Path: ['A', 'B', 'D', 'G', 'H', 'I']\n"
          ]
        }
      ],
      "source": [
        "import heapq\n",
        "\n",
        "def a_star_search(graph, start, goal, heuristic):\n",
        "    open_list = []  # Priority queue to store (f, g, node, path)\n",
        "    heapq.heappush(open_list, (heuristic[start], 0, start, [start]))  # (f, g, node, path)\n",
        "\n",
        "    visited = set()\n",
        "\n",
        "    while open_list:\n",
        "        f, g, current, path = heapq.heappop(open_list)  # Get the node with the lowest f(n)\n",
        "\n",
        "        if current == goal:\n",
        "            return path  # Return the shortest path\n",
        "\n",
        "        if current in visited:\n",
        "            continue\n",
        "        visited.add(current)\n",
        "\n",
        "        for neighbor, cost in graph[current].items():\n",
        "            if neighbor not in visited:\n",
        "                new_g = g + cost\n",
        "                new_f = new_g + heuristic[neighbor]\n",
        "                heapq.heappush(open_list, (new_f, new_g, neighbor, path + [neighbor]))\n",
        "\n",
        "    return None  # No path found\n",
        "\n",
        "# Example Graph (Adjacency List)\n",
        "graph = {\n",
        "    'A': {'B': 1, 'C': 4},\n",
        "    'B': {'A': 1, 'D': 2, 'E': 5},\n",
        "    'C': {'A': 4, 'F': 3},\n",
        "    'D': {'B': 2, 'E': 2, 'G': 1},\n",
        "    'E': {'B': 5, 'D': 2, 'H': 3},\n",
        "    'F': {'C': 3, 'I': 6},\n",
        "    'G': {'D': 1, 'H': 2},\n",
        "    'H': {'E': 3, 'G': 2, 'I': 4},\n",
        "    'I': {'F': 6, 'H': 4}\n",
        "}\n",
        "\n",
        "# Heuristic Values (Estimated distance to goal 'I')\n",
        "heuristic = {\n",
        "    'A': 10, 'B': 8, 'C': 9, 'D': 6, 'E': 4,\n",
        "    'F': 7, 'G': 3, 'H': 2, 'I': 0\n",
        "}\n",
        "\n",
        "# Run A* Search from 'A' to 'I'\n",
        "path = a_star_search(graph, 'A', 'I', heuristic)\n",
        "print(\"Optimal Path:\", path)\n"
      ]
    },
    {
      "cell_type": "code",
      "source": [],
      "metadata": {
        "id": "r_YQlV_JQea5"
      },
      "execution_count": null,
      "outputs": []
    }
  ]
}