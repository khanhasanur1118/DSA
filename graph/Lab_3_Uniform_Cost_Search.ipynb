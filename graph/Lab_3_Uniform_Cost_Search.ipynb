{
  "nbformat": 4,
  "nbformat_minor": 0,
  "metadata": {
    "colab": {
      "provenance": []
    },
    "kernelspec": {
      "name": "python3",
      "display_name": "Python 3"
    },
    "language_info": {
      "name": "python"
    }
  },
  "cells": [
    {
      "cell_type": "code",
      "execution_count": 5,
      "metadata": {
        "id": "vsdUxKQJNeXz"
      },
      "outputs": [],
      "source": [
        "import heapq"
      ]
    },
    {
      "cell_type": "code",
      "source": [
        "def uniform_cost_search(graph, start, goal):\n",
        "  priority_queue = [(0, start)]\n",
        "  visited = {start: (0, None)} ## Dictionary to store the cost of the shortest path to each node\n",
        "\n",
        "  while priority_queue:\n",
        "    current_cost, current_node = heapq.heappop(priority_queue)\n",
        "\n",
        "    if current_node == goal:\n",
        "      return current_cost, reconstruct_path(visited, start, goal)\n",
        "\n",
        "    for neighbor, cost in graph[current_node]:\n",
        "      total_cost = current_cost+cost\n",
        "\n",
        "      if neighbor not in visited or total_cost < visited[neighbor][0]:\n",
        "        visited[neighbor] = (total_cost, current_node)\n",
        "        heapq.heappush(priority_queue, (total_cost, neighbor))\n",
        "\n",
        "  return None"
      ],
      "metadata": {
        "id": "DozWKU_VNn9m"
      },
      "execution_count": 6,
      "outputs": []
    },
    {
      "cell_type": "code",
      "source": [
        "def reconstruct_path(visited, start, goal):\n",
        "    # Reconstruct the path from start to goal by following the visited nodes\n",
        "    path = []\n",
        "    current = goal\n",
        "    while current is not None:\n",
        "        path.append(current)\n",
        "        current = visited[current][1]  # Get the parent node\n",
        "    path.reverse()\n",
        "    return path"
      ],
      "metadata": {
        "id": "UAxUS9r1Pga_"
      },
      "execution_count": 7,
      "outputs": []
    },
    {
      "cell_type": "code",
      "source": [
        "graph = {\n",
        "    'A': [('B', 1), ('C', 4)],\n",
        "    'B': [('D', 1), ('E', 3)],\n",
        "    'C': [('F', 5)],\n",
        "    'D': [('G', 2)],\n",
        "    'E': [('G', 1)],\n",
        "    'F': [('G', 2)],\n",
        "    'G': []\n",
        "}\n",
        "\n",
        "# Example usage of the UCS function\n",
        "start_node = 'A'\n",
        "goal_node = 'G'\n",
        "result = uniform_cost_search(graph, start_node, goal_node)\n",
        "print(result)"
      ],
      "metadata": {
        "colab": {
          "base_uri": "https://localhost:8080/"
        },
        "id": "aiBJpT_EPsRQ",
        "outputId": "7293212c-37d4-4913-bcf3-12fa50d027e2"
      },
      "execution_count": 8,
      "outputs": [
        {
          "output_type": "stream",
          "name": "stdout",
          "text": [
            "(4, ['A', 'B', 'D', 'G'])\n"
          ]
        }
      ]
    },
    {
      "cell_type": "code",
      "source": [],
      "metadata": {
        "id": "FRNIfDisQA9t"
      },
      "execution_count": 4,
      "outputs": []
    }
  ]
}