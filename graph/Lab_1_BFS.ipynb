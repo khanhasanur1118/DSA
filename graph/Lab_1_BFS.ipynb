{
  "nbformat": 4,
  "nbformat_minor": 0,
  "metadata": {
    "colab": {
      "provenance": []
    },
    "kernelspec": {
      "name": "python3",
      "display_name": "Python 3"
    },
    "language_info": {
      "name": "python"
    }
  },
  "cells": [
    {
      "cell_type": "code",
      "execution_count": 24,
      "metadata": {
        "id": "jLwWxQ7N9hbl"
      },
      "outputs": [],
      "source": [
        "from collections import deque\n",
        "from queue import Queue\n",
        "import numpy as np"
      ]
    },
    {
      "cell_type": "code",
      "source": [
        "ver = int(input())\n",
        "edg = int(input())\n",
        "\n",
        "print(ver)\n",
        "print(edg)\n",
        "\n",
        "vis = []\n",
        "for i in range(ver):\n",
        "  vis.append(False)\n",
        "\n",
        "adj_list = {}\n",
        "for i in range(ver):\n",
        "  adj_list[i] = []\n",
        "\n",
        "for i in range(edg):\n",
        "  u = int(input())\n",
        "  v = int(input())\n",
        "  adj_list[u].append(v)\n",
        "  adj_list[v].append(u)"
      ],
      "metadata": {
        "colab": {
          "base_uri": "https://localhost:8080/"
        },
        "id": "SAValCoEFUh_",
        "outputId": "4f6a8541-18e2-4c8b-d57d-dc9c956279bf"
      },
      "execution_count": 31,
      "outputs": [
        {
          "name": "stdout",
          "output_type": "stream",
          "text": [
            "5\n",
            "4\n",
            "5\n",
            "4\n",
            "0\n",
            "1\n",
            "0\n",
            "2\n",
            "0\n",
            "3\n",
            "1\n",
            "4\n"
          ]
        }
      ]
    },
    {
      "cell_type": "code",
      "source": [
        "q = deque()\n",
        "q.append(0)\n",
        "vis[0]= True\n",
        "while q:\n",
        "  curr = q.popleft()\n",
        "  print(curr)\n",
        "\n",
        "  for v in adj_list[curr]:\n",
        "    # print(v)\n",
        "    # print(vis[v])\n",
        "    if not vis[v]:\n",
        "      vis[v]=True\n",
        "      q.append(v)\n",
        "\n",
        "\n"
      ],
      "metadata": {
        "colab": {
          "base_uri": "https://localhost:8080/"
        },
        "id": "6je89fPA9xX_",
        "outputId": "547c2b09-62f1-4ae4-d74f-c22b56d707b2"
      },
      "execution_count": 32,
      "outputs": [
        {
          "output_type": "stream",
          "name": "stdout",
          "text": [
            "0\n",
            "1\n",
            "2\n",
            "3\n",
            "4\n"
          ]
        }
      ]
    },
    {
      "cell_type": "code",
      "source": [
        "44"
      ],
      "metadata": {
        "colab": {
          "base_uri": "https://localhost:8080/"
        },
        "id": "HYKP3TwIB-5M",
        "outputId": "d24e0245-a471-426e-b775-10e628395cf7"
      },
      "execution_count": 18,
      "outputs": [
        {
          "output_type": "execute_result",
          "data": {
            "text/plain": [
              "44"
            ]
          },
          "metadata": {},
          "execution_count": 18
        }
      ]
    },
    {
      "cell_type": "code",
      "source": [],
      "metadata": {
        "id": "PDc8rTQDEVVc"
      },
      "execution_count": null,
      "outputs": []
    }
  ]
}