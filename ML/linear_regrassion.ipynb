
x=[1,2,3,4,5,6,7,8,9,10]
y=[2,2,3,4,5,6,6,8,9,9]
def mean(values):
  total=sum(values)
  count=len(values)
  return total/count
mean_x=mean(x)
mean_y=mean(y)
print("mean of x :"+str(mean_x))
print("mean of y :"+str(mean_y))

numerator = 0     
denominator = 0   
for i in range(len(x)):
    numerator += (x[i] - mean_x) * (y[i] - mean_y)
    denominator += (x[i] - mean_x) ** 2
m = numerator / denominator
print("m :"+str(m))
b = mean_y - m * mean_x
print("b :"+str(b))
print("best-fit line: y = {:.3f}x + {:.3f}".format(m, b))

def predict(x_values):
    predictions = []
    for xi in x_values:
        yi = m * xi + b       
        predictions.append(yi)
    return predictions
predicted_y = predict(x)
print("Predicted y values: ", predicted_y)

def mean_squared_error(y_actual, y_predicted):
    total_error = 0
    for i in range(len(y_actual)):
        error = y_actual[i] - y_predicted[i]
        total_error += error ** 2
    return total_error / len(y_actual)
mse = mean_squared_error(y, predicted_y)
print("Mean Squared Error: {:.3f}".format(mse))

